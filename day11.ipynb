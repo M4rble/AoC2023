{
 "cells": [
  {
   "cell_type": "code",
   "execution_count": 5,
   "metadata": {},
   "outputs": [
    {
     "name": "stdout",
     "output_type": "stream",
     "text": [
      "{64, 133, 71, 77, 109, 80, 114, 51, 84, 23, 57, 58}\n",
      "{108, 81, 53, 56, 93}\n",
      "9974721 702770569197\n"
     ]
    }
   ],
   "source": [
    "with open(\"input_day11.txt\", \"r\") as file:\n",
    "    data = file.read().splitlines()\n",
    "    grid = {(x,y) for x in range(len(data[0])) for y in range(len(data)) if data[y][x] == \"#\"}\n",
    "    horizontal = set(range(len(data[0]))) - {x for x, y in grid}\n",
    "    vertical = set(range(len(data))) - {y for x, y in grid}\n",
    "    print(horizontal)\n",
    "    print(vertical)\n",
    "    s, s2 = 0, 0\n",
    "    for galaxy in set(grid):\n",
    "        grid.remove(galaxy)\n",
    "        for other_galaxy in grid:\n",
    "            left_h, right_h = sorted([galaxy[0], other_galaxy[0]])\n",
    "            left_v, right_v = sorted([galaxy[1], other_galaxy[1]])\n",
    "            sum_dist = right_h - left_h + right_v - left_v\n",
    "            extra_h = sum(1 for x in horizontal if left_h < x < right_h)\n",
    "            extra_v = sum(1 for x in vertical if left_v < x < right_v)\n",
    "            s += sum_dist + (sum_extra := extra_h + extra_v)\n",
    "            s2 += sum_dist + sum_extra * 999999\n",
    "    print(s, s2)"
   ]
  }
 ],
 "metadata": {
  "kernelspec": {
   "display_name": "Python 3",
   "language": "python",
   "name": "python3"
  },
  "language_info": {
   "codemirror_mode": {
    "name": "ipython",
    "version": 3
   },
   "file_extension": ".py",
   "mimetype": "text/x-python",
   "name": "python",
   "nbconvert_exporter": "python",
   "pygments_lexer": "ipython3",
   "version": "3.11.2"
  }
 },
 "nbformat": 4,
 "nbformat_minor": 2
}
