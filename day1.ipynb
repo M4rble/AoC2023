{
 "cells": [
  {
   "cell_type": "markdown",
   "metadata": {},
   "source": [
    "Advent of Code Day 1"
   ]
  },
  {
   "cell_type": "code",
   "execution_count": 30,
   "metadata": {},
   "outputs": [
    {
     "name": "stdout",
     "output_type": "stream",
     "text": [
      "55002\n"
     ]
    }
   ],
   "source": [
    "import re\n",
    "\n",
    "file = open('input_day1.txt','r')\n",
    "podatki = file.readlines()\n",
    "podatki\n",
    "\n",
    "# prvi del\n",
    "vsota = 0\n",
    "for vrstica in podatki:\n",
    "    stevilke = [int(s) for s in re.findall(r'\\d', vrstica)]\n",
    "    vsota += 10*stevilke[0] + stevilke[len(stevilke)-1]\n",
    "print(vsota)"
   ]
  },
  {
   "cell_type": "code",
   "execution_count": 61,
   "metadata": {},
   "outputs": [
    {
     "name": "stdout",
     "output_type": "stream",
     "text": [
      "55093\n"
     ]
    }
   ],
   "source": [
    "# drugi del\n",
    "#text= ['two1nine', 'eightwothree', 'abcone2threexyz', 'xtwone3four', '4nineeightseven2', 'zoneight234', '7pqrstsixteen']\n",
    "vsota = 0\n",
    "stevila = r\"(?=(one|two|three|four|five|six|seven|eight|nine|[1-9]))\"\n",
    "slovar = {'one': '1', 'two': '2', 'three': '3', 'four': '4',\n",
    "          'five': '5', 'six': '6', 'seven': '7', 'eight': '8', 'nine': '9'}\n",
    "#slovar = {v:k for k, v in slovar.items()}\n",
    "for vrstica in podatki:\n",
    "    stevilke = re.findall(stevila, vrstica)\n",
    "    stevilke2 = [slovar.get(item,item) for item in stevilke]\n",
    "    stevilke3 = [int(s) for s in stevilke2]\n",
    "    vsota += 10*stevilke3[0] + stevilke3[len(stevilke3)-1]\n",
    "print(vsota)"
   ]
  }
 ],
 "metadata": {
  "kernelspec": {
   "display_name": "Python 3",
   "language": "python",
   "name": "python3"
  },
  "language_info": {
   "codemirror_mode": {
    "name": "ipython",
    "version": 3
   },
   "file_extension": ".py",
   "mimetype": "text/x-python",
   "name": "python",
   "nbconvert_exporter": "python",
   "pygments_lexer": "ipython3",
   "version": "3.11.2"
  }
 },
 "nbformat": 4,
 "nbformat_minor": 2
}
