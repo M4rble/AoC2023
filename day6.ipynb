{
 "cells": [
  {
   "cell_type": "markdown",
   "metadata": {},
   "source": [
    "Advent of Code Day 6"
   ]
  },
  {
   "cell_type": "code",
   "execution_count": 12,
   "metadata": {},
   "outputs": [
    {
     "data": {
      "text/plain": [
       "[553, 1010, 1473, 1074]"
      ]
     },
     "execution_count": 12,
     "metadata": {},
     "output_type": "execute_result"
    }
   ],
   "source": [
    "file = open('input_day6.txt','r')\n",
    "podatki = file.read().strip()\n",
    "cas, razdalja = podatki.split(\"\\n\")\n",
    "cas = cas.split()\n",
    "casi = [int(s) for s in cas[1:]]\n",
    "casi\n",
    "razdalja = razdalja.split()\n",
    "razdalje = [int(s) for s in razdalja[1:]]\n",
    "razdalje"
   ]
  },
  {
   "cell_type": "code",
   "execution_count": 26,
   "metadata": {},
   "outputs": [
    {
     "data": {
      "text/plain": [
       "840336"
      ]
     },
     "execution_count": 26,
     "metadata": {},
     "output_type": "execute_result"
    }
   ],
   "source": [
    "import math\n",
    "\n",
    "st = 1\n",
    "for i in range(0,len(casi)):\n",
    "    sp_meja = math.ceil(1/2 * (casi[i] - (casi[i]**2 - 4*razdalje[i])**(1/2)))\n",
    "    zg_meja = math.floor(1/2 * (casi[i] + (casi[i]**2 - 4*razdalje[i])**(1/2)))\n",
    "    st *= zg_meja - sp_meja + 1\n",
    "st"
   ]
  },
  {
   "cell_type": "code",
   "execution_count": 38,
   "metadata": {},
   "outputs": [
    {
     "data": {
      "text/plain": [
       "41382569"
      ]
     },
     "execution_count": 38,
     "metadata": {},
     "output_type": "execute_result"
    }
   ],
   "source": [
    "# part2\n",
    "\n",
    "casi2 = int(cas[1] + cas[2] + cas[3] + cas[4])\n",
    "razdalje2 = int(razdalja[1] + razdalja[2] + razdalja[3] + razdalja[4])\n",
    "\n",
    "sp_meja = math.ceil(1/2 * (casi2 - (casi2**2 - 4*razdalje2)**(1/2)))\n",
    "zg_meja = math.floor(1/2 * (casi2 + (casi2**2 - 4*razdalje2)**(1/2)))\n",
    "st2 = zg_meja - sp_meja + 1\n",
    "st2"
   ]
  }
 ],
 "metadata": {
  "kernelspec": {
   "display_name": "Python 3",
   "language": "python",
   "name": "python3"
  },
  "language_info": {
   "codemirror_mode": {
    "name": "ipython",
    "version": 3
   },
   "file_extension": ".py",
   "mimetype": "text/x-python",
   "name": "python",
   "nbconvert_exporter": "python",
   "pygments_lexer": "ipython3",
   "version": "3.11.2"
  }
 },
 "nbformat": 4,
 "nbformat_minor": 2
}
